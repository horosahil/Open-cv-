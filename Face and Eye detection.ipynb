{
 "cells": [
  {
   "cell_type": "code",
   "execution_count": 1,
   "metadata": {
    "collapsed": true
   },
   "outputs": [],
   "source": [
    "import cv2\n",
    "import numpy as np\n",
    "\n",
    "Bella = cv2.imread('downloads/Bella.jpg',0) # Location where image is stored\n",
    "# Image is read as grayscale \n",
    "face_cascade = cv2.CascadeClassifier('downloads/haarcascade_frontalface_default.xml') # Location where xml file is stored\n",
    "eye_cascade = cv2.CascadeClassifier('downloads/haarcascade_eye.xml')\n",
    "\n",
    "def detect_face_eye (img):\n",
    "    \n",
    "    face_img = img.copy()\n",
    "    \n",
    "    face_rects = face_cascade.detectMultiScale(face_img)\n",
    "    \n",
    "    for (x,y,w,h) in face_rects :\n",
    "        cv2.rectangle(face_img,(x,y),(x+w,y+h),(255,255,255),4)\n",
    "   \n",
    "    eye_rects = eye_cascade.detectMultiScale(face_img,scaleFactor=1.1,minNeighbors=4)\n",
    "    \n",
    "    for (x,y,w,h) in eye_rects :\n",
    "        cv2.rectangle(face_img,(x,y),(x+w,y+h),(255,255,255),5)\n",
    "    \n",
    "    return face_img\n",
    "\n",
    "\n",
    "result = detect_face_eye(Bella)\n",
    "\n",
    "while True:\n",
    "    cv2.imshow('Bella',result)\n",
    "    if cv2.waitKey(0) & 0xFF==27:\n",
    "        break\n",
    "\n",
    "cv2.destroyAllWindows()  "
   ]
  },
  {
   "cell_type": "code",
   "execution_count": null,
   "metadata": {
    "collapsed": true
   },
   "outputs": [],
   "source": []
  }
 ],
 "metadata": {
  "kernelspec": {
   "display_name": "Python 3",
   "language": "python",
   "name": "python3"
  },
  "language_info": {
   "codemirror_mode": {
    "name": "ipython",
    "version": 3
   },
   "file_extension": ".py",
   "mimetype": "text/x-python",
   "name": "python",
   "nbconvert_exporter": "python",
   "pygments_lexer": "ipython3",
   "version": "3.6.0"
  }
 },
 "nbformat": 4,
 "nbformat_minor": 2
}
